{
  "nbformat": 4,
  "nbformat_minor": 0,
  "metadata": {
    "colab": {
      "name": "연습.ipynb",
      "provenance": [],
      "collapsed_sections": []
    },
    "kernelspec": {
      "name": "python3",
      "display_name": "Python 3"
    },
    "accelerator": "GPU"
  },
  "cells": [
    {
      "cell_type": "code",
      "metadata": {
        "id": "w2WchtOnbBx-",
        "colab_type": "code",
        "outputId": "bb52c40d-b9ba-4282-b261-132f4b1fcd0d",
        "colab": {
          "base_uri": "https://localhost:8080/",
          "height": 125
        }
      },
      "source": [
        "from google.colab import drive\n",
        "drive.mount('/gdrive', force_remount=True)"
      ],
      "execution_count": 1,
      "outputs": [
        {
          "output_type": "stream",
          "text": [
            "Go to this URL in a browser: https://accounts.google.com/o/oauth2/auth?client_id=947318989803-6bn6qk8qdgf4n4g3pfee6491hc0brc4i.apps.googleusercontent.com&redirect_uri=urn%3aietf%3awg%3aoauth%3a2.0%3aoob&response_type=code&scope=email%20https%3a%2f%2fwww.googleapis.com%2fauth%2fdocs.test%20https%3a%2f%2fwww.googleapis.com%2fauth%2fdrive%20https%3a%2f%2fwww.googleapis.com%2fauth%2fdrive.photos.readonly%20https%3a%2f%2fwww.googleapis.com%2fauth%2fpeopleapi.readonly\n",
            "\n",
            "Enter your authorization code:\n",
            "··········\n",
            "Mounted at /gdrive\n"
          ],
          "name": "stdout"
        }
      ]
    },
    {
      "cell_type": "code",
      "metadata": {
        "id": "xshQhUL6NnoR",
        "colab_type": "code",
        "colab": {}
      },
      "source": [
        "import torch\n",
        "import torch.nn as nn\n",
        "import torch.nn.functional as F\n",
        "\n",
        "from torch.utils.data import TensorDataset\n",
        "from torch.utils.data import DataLoader"
      ],
      "execution_count": 0,
      "outputs": []
    },
    {
      "cell_type": "code",
      "metadata": {
        "id": "u4cZhXvKuvTm",
        "colab_type": "code",
        "colab": {}
      },
      "source": [
        "import torchvision.datasets as dsets\n",
        "import torchvision.transforms as transforms\n",
        "from torch.utils.data import DataLoader\n",
        "\n",
        "mnist_train = dsets.MNIST(root='MNIST_data/',\n",
        "                          train=True,\n",
        "                          transform=transforms.ToTensor(),\n",
        "                          download=True)\n",
        "\n",
        "mnist_test = dsets.MNIST(root='MNIST_data/',\n",
        "                         train=False,\n",
        "                         transform=transforms.ToTensor(),\n",
        "                         download=True)\n",
        "\n",
        "train_loader = DataLoader(dataset=mnist_train,\n",
        "                                          batch_size=100,\n",
        "                                          shuffle=True,\n",
        "                                          drop_last=True)\n",
        "\n",
        "test_loader = DataLoader(dataset=mnist_test,\n",
        "                                          batch_size=100,\n",
        "                                          shuffle=True,\n",
        "                                          drop_last=True)"
      ],
      "execution_count": 0,
      "outputs": []
    },
    {
      "cell_type": "code",
      "metadata": {
        "id": "h7ApFKTzeTc3",
        "colab_type": "code",
        "colab": {}
      },
      "source": [
        "classes = ('0', '1', '2', '3', '4', '5', '6', '7', '8', '9')"
      ],
      "execution_count": 0,
      "outputs": []
    },
    {
      "cell_type": "code",
      "metadata": {
        "id": "PqfGHnR6e-l3",
        "colab_type": "code",
        "colab": {}
      },
      "source": [
        "import torch.nn as nn\n",
        "import torch.nn.functional as F\n",
        "\n",
        "\n",
        "class Net(nn.Module):\n",
        "    def __init__(self):\n",
        "        super(Net, self).__init__()\n",
        "        self.conv1 = nn.Conv2d(1, 6, 5)\n",
        "        self.pool = nn.MaxPool2d(2, 2)\n",
        "        self.conv2 = nn.Conv2d(6, 16, 5)\n",
        "        self.fc1 = nn.Linear(16 * 4 * 4, 120)\n",
        "        self.fc2 = nn.Linear(120, 84)\n",
        "        self.fc3 = nn.Linear(84, 10)\n",
        "\n",
        "    def forward(self, x):\n",
        "        x = self.pool(F.relu(self.conv1(x)))\n",
        "        x = self.pool(F.relu(self.conv2(x)))\n",
        "        x = x.view(-1, 16 * 4 * 4)\n",
        "        x = F.relu(self.fc1(x))\n",
        "        x = F.relu(self.fc2(x))\n",
        "        x = self.fc3(x)\n",
        "        return x\n",
        "\n",
        "\n",
        "net = Net()"
      ],
      "execution_count": 0,
      "outputs": []
    },
    {
      "cell_type": "code",
      "metadata": {
        "id": "kKzKlw61gvWD",
        "colab_type": "code",
        "colab": {}
      },
      "source": [
        "import torch.optim as optim\n",
        "\n",
        "criterion = nn.CrossEntropyLoss()\n",
        "optimizer = optim.SGD(net.parameters(), lr=0.001, momentum=0.9)"
      ],
      "execution_count": 0,
      "outputs": []
    },
    {
      "cell_type": "code",
      "metadata": {
        "id": "XGJUDBHtgw57",
        "colab_type": "code",
        "outputId": "463a7bbc-f52e-4b7d-ce47-091a3f2240b4",
        "colab": {
          "base_uri": "https://localhost:8080/",
          "height": 562
        }
      },
      "source": [
        "for epoch in range(5):\n",
        "\n",
        "    running_loss = 0.0\n",
        "    for i, data in enumerate(train_loader, 0):\n",
        "        inputs, labels = data\n",
        "        labels = labels.long()\n",
        "\n",
        "        optimizer.zero_grad()\n",
        "\n",
        "        outputs = net(inputs)\n",
        "        loss = criterion(outputs, labels)\n",
        "        loss.backward()\n",
        "        optimizer.step()\n",
        "\n",
        "        running_loss += loss.item()\n",
        "        if i % 100 == 99:    # print every 100 mini-batches\n",
        "            print('[%d, %5d] loss: %.3f' %\n",
        "                  (epoch + 1, i + 1, running_loss / 100))\n",
        "            running_loss = 0.0\n",
        "\n",
        "print('Finished Training')"
      ],
      "execution_count": 85,
      "outputs": [
        {
          "output_type": "stream",
          "text": [
            "[1,   100] loss: 2.304\n",
            "[1,   200] loss: 2.301\n",
            "[1,   300] loss: 2.298\n",
            "[1,   400] loss: 2.294\n",
            "[1,   500] loss: 2.289\n",
            "[1,   600] loss: 2.283\n",
            "[2,   100] loss: 2.270\n",
            "[2,   200] loss: 2.245\n",
            "[2,   300] loss: 2.182\n",
            "[2,   400] loss: 1.961\n",
            "[2,   500] loss: 1.333\n",
            "[2,   600] loss: 0.791\n",
            "[3,   100] loss: 0.610\n",
            "[3,   200] loss: 0.533\n",
            "[3,   300] loss: 0.488\n",
            "[3,   400] loss: 0.434\n",
            "[3,   500] loss: 0.427\n",
            "[3,   600] loss: 0.387\n",
            "[4,   100] loss: 0.370\n",
            "[4,   200] loss: 0.342\n",
            "[4,   300] loss: 0.318\n",
            "[4,   400] loss: 0.308\n",
            "[4,   500] loss: 0.299\n",
            "[4,   600] loss: 0.281\n",
            "[5,   100] loss: 0.250\n",
            "[5,   200] loss: 0.268\n",
            "[5,   300] loss: 0.236\n",
            "[5,   400] loss: 0.253\n",
            "[5,   500] loss: 0.232\n",
            "[5,   600] loss: 0.226\n",
            "Finished Training\n"
          ],
          "name": "stdout"
        }
      ]
    },
    {
      "cell_type": "code",
      "metadata": {
        "id": "_tKeAQazg26s",
        "colab_type": "code",
        "colab": {}
      },
      "source": [
        "PATH = './cifar_net.pth'\n",
        "torch.save(net.state_dict(), PATH)"
      ],
      "execution_count": 0,
      "outputs": []
    },
    {
      "cell_type": "code",
      "metadata": {
        "id": "-qAd-Bp6lyVX",
        "colab_type": "code",
        "outputId": "61ef3a1d-0d94-4aa5-8d08-b9483dd13ec5",
        "colab": {
          "base_uri": "https://localhost:8080/",
          "height": 34
        }
      },
      "source": [
        "dataiter = iter(train_loader)\n",
        "images, labels = dataiter.next()\n",
        "\n",
        "print('GroundTruth: ', ' '.join('%5s' % classes[labels[j]] for j in range(10)))"
      ],
      "execution_count": 87,
      "outputs": [
        {
          "output_type": "stream",
          "text": [
            "GroundTruth:      2     4     2     2     3     3     8     3     2     9\n"
          ],
          "name": "stdout"
        }
      ]
    },
    {
      "cell_type": "code",
      "metadata": {
        "id": "rhirbnEMl4PK",
        "colab_type": "code",
        "outputId": "5afee03a-616a-468f-a57c-9e144bafff0c",
        "colab": {
          "base_uri": "https://localhost:8080/",
          "height": 34
        }
      },
      "source": [
        "net = Net()\n",
        "net.load_state_dict(torch.load(PATH))"
      ],
      "execution_count": 88,
      "outputs": [
        {
          "output_type": "execute_result",
          "data": {
            "text/plain": [
              "<All keys matched successfully>"
            ]
          },
          "metadata": {
            "tags": []
          },
          "execution_count": 88
        }
      ]
    },
    {
      "cell_type": "code",
      "metadata": {
        "id": "w_ccXOykmRo8",
        "colab_type": "code",
        "colab": {}
      },
      "source": [
        "outputs = net(images)"
      ],
      "execution_count": 0,
      "outputs": []
    },
    {
      "cell_type": "code",
      "metadata": {
        "id": "XLF010gemTDq",
        "colab_type": "code",
        "outputId": "3ec42646-8fd5-4f3c-e9f7-96cdf1c5668d",
        "colab": {
          "base_uri": "https://localhost:8080/",
          "height": 34
        }
      },
      "source": [
        "_, predicted = torch.max(outputs, 1)\n",
        "\n",
        "print('Predicted: ', ' '.join('%5s' % classes[predicted[j]]\n",
        "                              for j in range(10)))"
      ],
      "execution_count": 90,
      "outputs": [
        {
          "output_type": "stream",
          "text": [
            "Predicted:      2     4     2     9     3     3     8     3     2     9\n"
          ],
          "name": "stdout"
        }
      ]
    },
    {
      "cell_type": "code",
      "metadata": {
        "id": "6rfG_pWQxoBu",
        "colab_type": "code",
        "colab": {
          "base_uri": "https://localhost:8080/",
          "height": 34
        },
        "outputId": "559ea1e9-ff6f-4151-f5d7-0c30d01ddad4"
      },
      "source": [
        "cnt = 0\n",
        "\n",
        "for i in range(len(images)):\n",
        "  if labels[i] == predicted[i]:\n",
        "    cnt = cnt + 1\n",
        "\n",
        "acc = cnt / len(images) * 100\n",
        "\n",
        "print('ACC : ' + str(acc))"
      ],
      "execution_count": 91,
      "outputs": [
        {
          "output_type": "stream",
          "text": [
            "ACC : 95.0\n"
          ],
          "name": "stdout"
        }
      ]
    },
    {
      "cell_type": "code",
      "metadata": {
        "id": "ONYGNwhomVfN",
        "colab_type": "code",
        "colab": {
          "base_uri": "https://localhost:8080/",
          "height": 34
        },
        "outputId": "e612b300-0761-4871-b301-4d340d567111"
      },
      "source": [
        "dataiter = iter(test_loader)\n",
        "images, labels = dataiter.next()\n",
        "\n",
        "print('GroundTruth: ', ' '.join('%5s' % classes[labels[j]] for j in range(10)))"
      ],
      "execution_count": 92,
      "outputs": [
        {
          "output_type": "stream",
          "text": [
            "GroundTruth:      2     9     7     5     9     4     3     4     1     8\n"
          ],
          "name": "stdout"
        }
      ]
    },
    {
      "cell_type": "code",
      "metadata": {
        "id": "gzkAqD1dxa_t",
        "colab_type": "code",
        "colab": {}
      },
      "source": [
        "outputs = net(images)"
      ],
      "execution_count": 0,
      "outputs": []
    },
    {
      "cell_type": "code",
      "metadata": {
        "id": "RAm3oZ4xxdat",
        "colab_type": "code",
        "colab": {
          "base_uri": "https://localhost:8080/",
          "height": 34
        },
        "outputId": "e219f58d-ff0a-4799-834f-e3ada1e9941e"
      },
      "source": [
        "_, predicted = torch.max(outputs, 1)\n",
        "\n",
        "print('Predicted: ', ' '.join('%5s' % classes[predicted[j]]\n",
        "                              for j in range(10)))"
      ],
      "execution_count": 94,
      "outputs": [
        {
          "output_type": "stream",
          "text": [
            "Predicted:      2     9     2     5     9     0     3     4     1     8\n"
          ],
          "name": "stdout"
        }
      ]
    },
    {
      "cell_type": "code",
      "metadata": {
        "id": "hawOLFHLxf6j",
        "colab_type": "code",
        "colab": {
          "base_uri": "https://localhost:8080/",
          "height": 34
        },
        "outputId": "3f319ac7-690c-4c2f-921d-3bfaef931e3b"
      },
      "source": [
        "cnt = 0\n",
        "\n",
        "for i in range(len(images)):\n",
        "  if labels[i] == predicted[i]:\n",
        "    cnt = cnt + 1\n",
        "\n",
        "acc = cnt / len(images) * 100\n",
        "\n",
        "print('ACC : ' + str(acc))"
      ],
      "execution_count": 95,
      "outputs": [
        {
          "output_type": "stream",
          "text": [
            "ACC : 94.0\n"
          ],
          "name": "stdout"
        }
      ]
    },
    {
      "cell_type": "code",
      "metadata": {
        "id": "b8BPIWshyTyj",
        "colab_type": "code",
        "colab": {}
      },
      "source": [
        "#custom dataset"
      ],
      "execution_count": 0,
      "outputs": []
    },
    {
      "cell_type": "code",
      "metadata": {
        "id": "q8LtD-O3Nm8L",
        "colab_type": "code",
        "outputId": "17960aee-19f3-4fc4-d491-623e01cf81e8",
        "colab": {
          "base_uri": "https://localhost:8080/",
          "height": 1000
        }
      },
      "source": [
        "import pickle\n",
        "import cv2\n",
        "import glob\n",
        "import random\n",
        "import numpy as np\n",
        "\n",
        "image = []\n",
        "label = []\n",
        "\n",
        "for i in range(10):\n",
        "    images1 = glob.glob('/gdrive/My Drive/mnist/' + str(i) + '/*.jpg')\n",
        "\n",
        "    for fname1 in images1:\n",
        "        print(fname1)\n",
        "        image1 = cv2.imread(fname1, 0)\n",
        "        image1 = cv2.resize(image1, (28, 28))\n",
        "        image1.resize(1, 28, 28)\n",
        "        image1 = cv2.bitwise_not(image1)\n",
        "        image.append(image1)\n",
        "\n",
        "        label1 = i\n",
        "        label.append(label1)\n",
        "\n",
        "with open('/gdrive/My Drive/pickle/data.p', 'wb') as f:\n",
        "    pickle.dump(image, f, protocol=4)\n",
        "\n",
        "with open('/gdrive/My Drive/pickle/label.p', 'wb') as f:\n",
        "    pickle.dump(label, f, protocol=4)\n",
        "\n",
        "custom_image = np.array(image)\n",
        "custom_label = np.array(label)\n",
        "\n",
        "print(custom_image.shape, custom_label.shape)"
      ],
      "execution_count": 96,
      "outputs": [
        {
          "output_type": "stream",
          "text": [
            "/gdrive/My Drive/mnist/0/001.jpg\n",
            "/gdrive/My Drive/mnist/0/007.jpg\n",
            "/gdrive/My Drive/mnist/0/000.jpg\n",
            "/gdrive/My Drive/mnist/0/002.jpg\n",
            "/gdrive/My Drive/mnist/0/004.jpg\n",
            "/gdrive/My Drive/mnist/0/003.jpg\n",
            "/gdrive/My Drive/mnist/0/005.jpg\n",
            "/gdrive/My Drive/mnist/0/006.jpg\n",
            "/gdrive/My Drive/mnist/0/009.jpg\n",
            "/gdrive/My Drive/mnist/0/015.jpg\n",
            "/gdrive/My Drive/mnist/0/010.jpg\n",
            "/gdrive/My Drive/mnist/0/012.jpg\n",
            "/gdrive/My Drive/mnist/0/013.jpg\n",
            "/gdrive/My Drive/mnist/0/014.jpg\n",
            "/gdrive/My Drive/mnist/0/011.jpg\n",
            "/gdrive/My Drive/mnist/0/008.jpg\n",
            "/gdrive/My Drive/mnist/0/016.jpg\n",
            "/gdrive/My Drive/mnist/0/017.jpg\n",
            "/gdrive/My Drive/mnist/0/018.jpg\n",
            "/gdrive/My Drive/mnist/0/019.jpg\n",
            "/gdrive/My Drive/mnist/0/025.jpg\n",
            "/gdrive/My Drive/mnist/0/024.jpg\n",
            "/gdrive/My Drive/mnist/0/022.jpg\n",
            "/gdrive/My Drive/mnist/0/023.jpg\n",
            "/gdrive/My Drive/mnist/0/026.jpg\n",
            "/gdrive/My Drive/mnist/0/021.jpg\n",
            "/gdrive/My Drive/mnist/0/027.jpg\n",
            "/gdrive/My Drive/mnist/0/020.jpg\n",
            "/gdrive/My Drive/mnist/0/028.jpg\n",
            "/gdrive/My Drive/mnist/0/029.jpg\n",
            "/gdrive/My Drive/mnist/0/030.jpg\n",
            "/gdrive/My Drive/mnist/1/035.jpg\n",
            "/gdrive/My Drive/mnist/1/037.jpg\n",
            "/gdrive/My Drive/mnist/1/033.jpg\n",
            "/gdrive/My Drive/mnist/1/032.jpg\n",
            "/gdrive/My Drive/mnist/1/031.jpg\n",
            "/gdrive/My Drive/mnist/1/034.jpg\n",
            "/gdrive/My Drive/mnist/1/036.jpg\n",
            "/gdrive/My Drive/mnist/1/038.jpg\n",
            "/gdrive/My Drive/mnist/1/045.jpg\n",
            "/gdrive/My Drive/mnist/1/043.jpg\n",
            "/gdrive/My Drive/mnist/1/041.jpg\n",
            "/gdrive/My Drive/mnist/1/039.jpg\n",
            "/gdrive/My Drive/mnist/1/044.jpg\n",
            "/gdrive/My Drive/mnist/1/040.jpg\n",
            "/gdrive/My Drive/mnist/1/042.jpg\n",
            "/gdrive/My Drive/mnist/1/046.jpg\n",
            "/gdrive/My Drive/mnist/1/047.jpg\n",
            "/gdrive/My Drive/mnist/1/048.jpg\n",
            "/gdrive/My Drive/mnist/1/053.jpg\n",
            "/gdrive/My Drive/mnist/1/055.jpg\n",
            "/gdrive/My Drive/mnist/1/057.jpg\n",
            "/gdrive/My Drive/mnist/1/049.jpg\n",
            "/gdrive/My Drive/mnist/1/050.jpg\n",
            "/gdrive/My Drive/mnist/1/051.jpg\n",
            "/gdrive/My Drive/mnist/1/052.jpg\n",
            "/gdrive/My Drive/mnist/1/054.jpg\n",
            "/gdrive/My Drive/mnist/1/056.jpg\n",
            "/gdrive/My Drive/mnist/1/058.jpg\n",
            "/gdrive/My Drive/mnist/1/059.jpg\n",
            "/gdrive/My Drive/mnist/2/000.jpg\n",
            "/gdrive/My Drive/mnist/2/007.jpg\n",
            "/gdrive/My Drive/mnist/2/009.jpg\n",
            "/gdrive/My Drive/mnist/2/008.jpg\n",
            "/gdrive/My Drive/mnist/2/001.jpg\n",
            "/gdrive/My Drive/mnist/2/005.jpg\n",
            "/gdrive/My Drive/mnist/2/002.jpg\n",
            "/gdrive/My Drive/mnist/2/006.jpg\n",
            "/gdrive/My Drive/mnist/2/003.jpg\n",
            "/gdrive/My Drive/mnist/2/004.jpg\n",
            "/gdrive/My Drive/mnist/2/010.jpg\n",
            "/gdrive/My Drive/mnist/2/016.jpg\n",
            "/gdrive/My Drive/mnist/2/018.jpg\n",
            "/gdrive/My Drive/mnist/2/019.jpg\n",
            "/gdrive/My Drive/mnist/2/014.jpg\n",
            "/gdrive/My Drive/mnist/2/015.jpg\n",
            "/gdrive/My Drive/mnist/2/012.jpg\n",
            "/gdrive/My Drive/mnist/2/013.jpg\n",
            "/gdrive/My Drive/mnist/2/017.jpg\n",
            "/gdrive/My Drive/mnist/2/011.jpg\n",
            "/gdrive/My Drive/mnist/2/020.jpg\n",
            "/gdrive/My Drive/mnist/2/021.jpg\n",
            "/gdrive/My Drive/mnist/2/022.jpg\n",
            "/gdrive/My Drive/mnist/2/024.jpg\n",
            "/gdrive/My Drive/mnist/2/026.jpg\n",
            "/gdrive/My Drive/mnist/2/028.jpg\n",
            "/gdrive/My Drive/mnist/2/025.jpg\n",
            "/gdrive/My Drive/mnist/2/027.jpg\n",
            "/gdrive/My Drive/mnist/2/023.jpg\n",
            "/gdrive/My Drive/mnist/3/000.jpg\n",
            "/gdrive/My Drive/mnist/3/001.jpg\n",
            "/gdrive/My Drive/mnist/3/007.jpg\n",
            "/gdrive/My Drive/mnist/3/004.jpg\n",
            "/gdrive/My Drive/mnist/3/003.jpg\n",
            "/gdrive/My Drive/mnist/3/009.jpg\n",
            "/gdrive/My Drive/mnist/3/005.jpg\n",
            "/gdrive/My Drive/mnist/3/002.jpg\n",
            "/gdrive/My Drive/mnist/3/006.jpg\n",
            "/gdrive/My Drive/mnist/3/008.jpg\n",
            "/gdrive/My Drive/mnist/3/010.jpg\n",
            "/gdrive/My Drive/mnist/3/011.jpg\n",
            "/gdrive/My Drive/mnist/3/019.jpg\n",
            "/gdrive/My Drive/mnist/3/020.jpg\n",
            "/gdrive/My Drive/mnist/3/016.jpg\n",
            "/gdrive/My Drive/mnist/3/015.jpg\n",
            "/gdrive/My Drive/mnist/3/017.jpg\n",
            "/gdrive/My Drive/mnist/3/018.jpg\n",
            "/gdrive/My Drive/mnist/3/014.jpg\n",
            "/gdrive/My Drive/mnist/3/013.jpg\n",
            "/gdrive/My Drive/mnist/3/012.jpg\n",
            "/gdrive/My Drive/mnist/3/021.jpg\n",
            "/gdrive/My Drive/mnist/3/027.jpg\n",
            "/gdrive/My Drive/mnist/3/025.jpg\n",
            "/gdrive/My Drive/mnist/3/023.jpg\n",
            "/gdrive/My Drive/mnist/3/030.jpg\n",
            "/gdrive/My Drive/mnist/3/028.jpg\n",
            "/gdrive/My Drive/mnist/3/024.jpg\n",
            "/gdrive/My Drive/mnist/3/022.jpg\n",
            "/gdrive/My Drive/mnist/3/029.jpg\n",
            "/gdrive/My Drive/mnist/3/026.jpg\n",
            "/gdrive/My Drive/mnist/4/000.jpg\n",
            "/gdrive/My Drive/mnist/4/003.jpg\n",
            "/gdrive/My Drive/mnist/4/002.jpg\n",
            "/gdrive/My Drive/mnist/4/008.jpg\n",
            "/gdrive/My Drive/mnist/4/005.jpg\n",
            "/gdrive/My Drive/mnist/4/006.jpg\n",
            "/gdrive/My Drive/mnist/4/007.jpg\n",
            "/gdrive/My Drive/mnist/4/004.jpg\n",
            "/gdrive/My Drive/mnist/4/001.jpg\n",
            "/gdrive/My Drive/mnist/4/009.jpg\n",
            "/gdrive/My Drive/mnist/4/010.jpg\n",
            "/gdrive/My Drive/mnist/4/011.jpg\n",
            "/gdrive/My Drive/mnist/4/016.jpg\n",
            "/gdrive/My Drive/mnist/4/018.jpg\n",
            "/gdrive/My Drive/mnist/4/019.jpg\n",
            "/gdrive/My Drive/mnist/4/012.jpg\n",
            "/gdrive/My Drive/mnist/4/013.jpg\n",
            "/gdrive/My Drive/mnist/4/015.jpg\n",
            "/gdrive/My Drive/mnist/4/014.jpg\n",
            "/gdrive/My Drive/mnist/4/017.jpg\n",
            "/gdrive/My Drive/mnist/4/020.jpg\n",
            "/gdrive/My Drive/mnist/4/022.jpg\n",
            "/gdrive/My Drive/mnist/4/024.jpg\n",
            "/gdrive/My Drive/mnist/4/026.jpg\n",
            "/gdrive/My Drive/mnist/4/023.jpg\n",
            "/gdrive/My Drive/mnist/4/029.jpg\n",
            "/gdrive/My Drive/mnist/4/028.jpg\n",
            "/gdrive/My Drive/mnist/4/021.jpg\n",
            "/gdrive/My Drive/mnist/4/025.jpg\n",
            "/gdrive/My Drive/mnist/4/027.jpg\n",
            "/gdrive/My Drive/mnist/4/030.jpg\n",
            "/gdrive/My Drive/mnist/5/007.jpg\n",
            "/gdrive/My Drive/mnist/5/000.jpg\n",
            "/gdrive/My Drive/mnist/5/001.jpg\n",
            "/gdrive/My Drive/mnist/5/004.jpg\n",
            "/gdrive/My Drive/mnist/5/005.jpg\n",
            "/gdrive/My Drive/mnist/5/003.jpg\n",
            "/gdrive/My Drive/mnist/5/006.jpg\n",
            "/gdrive/My Drive/mnist/5/002.jpg\n",
            "/gdrive/My Drive/mnist/5/008.jpg\n",
            "/gdrive/My Drive/mnist/5/009.jpg\n",
            "/gdrive/My Drive/mnist/5/010.jpg\n",
            "/gdrive/My Drive/mnist/5/012.jpg\n",
            "/gdrive/My Drive/mnist/5/017.jpg\n",
            "/gdrive/My Drive/mnist/5/015.jpg\n",
            "/gdrive/My Drive/mnist/5/016.jpg\n",
            "/gdrive/My Drive/mnist/5/011.jpg\n",
            "/gdrive/My Drive/mnist/5/013.jpg\n",
            "/gdrive/My Drive/mnist/5/014.jpg\n",
            "/gdrive/My Drive/mnist/5/018.jpg\n",
            "/gdrive/My Drive/mnist/5/019.jpg\n",
            "/gdrive/My Drive/mnist/5/028.jpg\n",
            "/gdrive/My Drive/mnist/5/021.jpg\n",
            "/gdrive/My Drive/mnist/5/026.jpg\n",
            "/gdrive/My Drive/mnist/5/027.jpg\n",
            "/gdrive/My Drive/mnist/5/025.jpg\n",
            "/gdrive/My Drive/mnist/5/024.jpg\n",
            "/gdrive/My Drive/mnist/5/022.jpg\n",
            "/gdrive/My Drive/mnist/5/020.jpg\n",
            "/gdrive/My Drive/mnist/5/023.jpg\n",
            "/gdrive/My Drive/mnist/5/029.jpg\n",
            "/gdrive/My Drive/mnist/5/031.jpg\n",
            "/gdrive/My Drive/mnist/5/030.jpg\n",
            "/gdrive/My Drive/mnist/6/003.jpg\n",
            "/gdrive/My Drive/mnist/6/000.jpg\n",
            "/gdrive/My Drive/mnist/6/002.jpg\n",
            "/gdrive/My Drive/mnist/6/005.jpg\n",
            "/gdrive/My Drive/mnist/6/004.jpg\n",
            "/gdrive/My Drive/mnist/6/001.jpg\n",
            "/gdrive/My Drive/mnist/6/006.jpg\n",
            "/gdrive/My Drive/mnist/6/007.jpg\n",
            "/gdrive/My Drive/mnist/6/013.jpg\n",
            "/gdrive/My Drive/mnist/6/008.jpg\n",
            "/gdrive/My Drive/mnist/6/011.jpg\n",
            "/gdrive/My Drive/mnist/6/010.jpg\n",
            "/gdrive/My Drive/mnist/6/014.jpg\n",
            "/gdrive/My Drive/mnist/6/015.jpg\n",
            "/gdrive/My Drive/mnist/6/009.jpg\n",
            "/gdrive/My Drive/mnist/6/012.jpg\n",
            "/gdrive/My Drive/mnist/6/016.jpg\n",
            "/gdrive/My Drive/mnist/6/017.jpg\n",
            "/gdrive/My Drive/mnist/6/020.jpg\n",
            "/gdrive/My Drive/mnist/6/025.jpg\n",
            "/gdrive/My Drive/mnist/6/024.jpg\n",
            "/gdrive/My Drive/mnist/6/023.jpg\n",
            "/gdrive/My Drive/mnist/6/021.jpg\n",
            "/gdrive/My Drive/mnist/6/026.jpg\n",
            "/gdrive/My Drive/mnist/6/019.jpg\n",
            "/gdrive/My Drive/mnist/6/018.jpg\n",
            "/gdrive/My Drive/mnist/6/022.jpg\n",
            "/gdrive/My Drive/mnist/6/027.jpg\n",
            "/gdrive/My Drive/mnist/6/029.jpg\n",
            "/gdrive/My Drive/mnist/6/030.jpg\n",
            "/gdrive/My Drive/mnist/6/028.jpg\n",
            "/gdrive/My Drive/mnist/7/000.jpg\n",
            "/gdrive/My Drive/mnist/7/001.jpg\n",
            "/gdrive/My Drive/mnist/7/003.jpg\n",
            "/gdrive/My Drive/mnist/7/002.jpg\n",
            "/gdrive/My Drive/mnist/7/004.jpg\n",
            "/gdrive/My Drive/mnist/7/005.jpg\n",
            "/gdrive/My Drive/mnist/7/006.jpg\n",
            "/gdrive/My Drive/mnist/7/009.jpg\n",
            "/gdrive/My Drive/mnist/7/011.jpg\n",
            "/gdrive/My Drive/mnist/7/013.jpg\n",
            "/gdrive/My Drive/mnist/7/010.jpg\n",
            "/gdrive/My Drive/mnist/7/012.jpg\n",
            "/gdrive/My Drive/mnist/7/007.jpg\n",
            "/gdrive/My Drive/mnist/7/014.jpg\n",
            "/gdrive/My Drive/mnist/7/008.jpg\n",
            "/gdrive/My Drive/mnist/7/015.jpg\n",
            "/gdrive/My Drive/mnist/7/016.jpg\n",
            "/gdrive/My Drive/mnist/7/023.jpg\n",
            "/gdrive/My Drive/mnist/7/024.jpg\n",
            "/gdrive/My Drive/mnist/7/017.jpg\n",
            "/gdrive/My Drive/mnist/7/021.jpg\n",
            "/gdrive/My Drive/mnist/7/018.jpg\n",
            "/gdrive/My Drive/mnist/7/022.jpg\n",
            "/gdrive/My Drive/mnist/7/019.jpg\n",
            "/gdrive/My Drive/mnist/7/020.jpg\n",
            "/gdrive/My Drive/mnist/8/000.jpg\n",
            "/gdrive/My Drive/mnist/8/001.jpg\n",
            "/gdrive/My Drive/mnist/8/006.jpg\n",
            "/gdrive/My Drive/mnist/8/002.jpg\n",
            "/gdrive/My Drive/mnist/8/003.jpg\n",
            "/gdrive/My Drive/mnist/8/004.jpg\n",
            "/gdrive/My Drive/mnist/8/008.jpg\n",
            "/gdrive/My Drive/mnist/8/007.jpg\n",
            "/gdrive/My Drive/mnist/8/005.jpg\n",
            "/gdrive/My Drive/mnist/8/009.jpg\n",
            "/gdrive/My Drive/mnist/8/010.jpg\n",
            "/gdrive/My Drive/mnist/8/011.jpg\n",
            "/gdrive/My Drive/mnist/8/016.jpg\n",
            "/gdrive/My Drive/mnist/8/014.jpg\n",
            "/gdrive/My Drive/mnist/8/013.jpg\n",
            "/gdrive/My Drive/mnist/8/017.jpg\n",
            "/gdrive/My Drive/mnist/8/018.jpg\n",
            "/gdrive/My Drive/mnist/8/015.jpg\n",
            "/gdrive/My Drive/mnist/8/019.jpg\n",
            "/gdrive/My Drive/mnist/8/012.jpg\n",
            "/gdrive/My Drive/mnist/8/020.jpg\n",
            "/gdrive/My Drive/mnist/8/021.jpg\n",
            "/gdrive/My Drive/mnist/8/022.jpg\n",
            "/gdrive/My Drive/mnist/8/023.jpg\n",
            "/gdrive/My Drive/mnist/8/024.jpg\n",
            "/gdrive/My Drive/mnist/8/025.jpg\n",
            "/gdrive/My Drive/mnist/9/000.jpg\n",
            "/gdrive/My Drive/mnist/9/001.jpg\n",
            "/gdrive/My Drive/mnist/9/003.jpg\n",
            "/gdrive/My Drive/mnist/9/002.jpg\n",
            "/gdrive/My Drive/mnist/9/004.jpg\n",
            "/gdrive/My Drive/mnist/9/005.jpg\n",
            "/gdrive/My Drive/mnist/9/010.jpg\n",
            "/gdrive/My Drive/mnist/9/012.jpg\n",
            "/gdrive/My Drive/mnist/9/007.jpg\n",
            "/gdrive/My Drive/mnist/9/014.jpg\n",
            "/gdrive/My Drive/mnist/9/006.jpg\n",
            "/gdrive/My Drive/mnist/9/013.jpg\n",
            "/gdrive/My Drive/mnist/9/008.jpg\n",
            "/gdrive/My Drive/mnist/9/009.jpg\n",
            "/gdrive/My Drive/mnist/9/011.jpg\n",
            "/gdrive/My Drive/mnist/9/015.jpg\n",
            "/gdrive/My Drive/mnist/9/024.jpg\n",
            "/gdrive/My Drive/mnist/9/020.jpg\n",
            "/gdrive/My Drive/mnist/9/019.jpg\n",
            "/gdrive/My Drive/mnist/9/018.jpg\n",
            "/gdrive/My Drive/mnist/9/017.jpg\n",
            "/gdrive/My Drive/mnist/9/022.jpg\n",
            "/gdrive/My Drive/mnist/9/021.jpg\n",
            "/gdrive/My Drive/mnist/9/016.jpg\n",
            "/gdrive/My Drive/mnist/9/023.jpg\n",
            "/gdrive/My Drive/mnist/9/025.jpg\n",
            "/gdrive/My Drive/mnist/9/026.jpg\n",
            "(292, 1, 28, 28) (292,)\n"
          ],
          "name": "stdout"
        }
      ]
    },
    {
      "cell_type": "code",
      "metadata": {
        "id": "Lf1-ISOJdCxW",
        "colab_type": "code",
        "colab": {}
      },
      "source": [
        "x_train  =  torch.FloatTensor(custom_image)\n",
        "y_train  =  torch.IntTensor(custom_label)"
      ],
      "execution_count": 0,
      "outputs": []
    },
    {
      "cell_type": "code",
      "metadata": {
        "id": "UVttM6LkduD-",
        "colab_type": "code",
        "colab": {}
      },
      "source": [
        "custom_dataset = TensorDataset(x_train, y_train)"
      ],
      "execution_count": 0,
      "outputs": []
    },
    {
      "cell_type": "code",
      "metadata": {
        "id": "7ibXngW6eQWj",
        "colab_type": "code",
        "colab": {}
      },
      "source": [
        "custom_dataloader = DataLoader(custom_dataset, batch_size=100, shuffle=True)"
      ],
      "execution_count": 0,
      "outputs": []
    },
    {
      "cell_type": "code",
      "metadata": {
        "id": "ccj8JT1V0gp2",
        "colab_type": "code",
        "colab": {
          "base_uri": "https://localhost:8080/",
          "height": 34
        },
        "outputId": "c1ac083f-57d1-4819-a556-bbd1dcf35dd0"
      },
      "source": [
        "dataiter = iter(custom_dataloader)\n",
        "images, labels = dataiter.next()\n",
        "\n",
        "print('GroundTruth: ', ' '.join('%5s' % classes[labels[j]] for j in range(10)))"
      ],
      "execution_count": 100,
      "outputs": [
        {
          "output_type": "stream",
          "text": [
            "GroundTruth:      4     3     6     8     0     0     5     8     1     3\n"
          ],
          "name": "stdout"
        }
      ]
    },
    {
      "cell_type": "code",
      "metadata": {
        "id": "ZCpn4q5U0m4L",
        "colab_type": "code",
        "colab": {}
      },
      "source": [
        "outputs = net(images)"
      ],
      "execution_count": 0,
      "outputs": []
    },
    {
      "cell_type": "code",
      "metadata": {
        "id": "Cm2u3OmE0q1y",
        "colab_type": "code",
        "colab": {
          "base_uri": "https://localhost:8080/",
          "height": 34
        },
        "outputId": "594eb1f9-6e83-4e1f-ce82-bd0f958d72ca"
      },
      "source": [
        "_, predicted = torch.max(outputs, 1)\n",
        "\n",
        "print('Predicted: ', ' '.join('%5s' % classes[predicted[j]]\n",
        "                              for j in range(10)))"
      ],
      "execution_count": 102,
      "outputs": [
        {
          "output_type": "stream",
          "text": [
            "Predicted:      9     3     5     5     9     0     5     8     6     2\n"
          ],
          "name": "stdout"
        }
      ]
    },
    {
      "cell_type": "code",
      "metadata": {
        "id": "hcPWD3930tv6",
        "colab_type": "code",
        "colab": {
          "base_uri": "https://localhost:8080/",
          "height": 34
        },
        "outputId": "a286b299-009d-472c-c8e6-43099b6b62c0"
      },
      "source": [
        "cnt = 0\n",
        "\n",
        "for i in range(len(images)):\n",
        "  if labels[i] == predicted[i]:\n",
        "    cnt = cnt + 1\n",
        "\n",
        "acc = cnt / len(images) * 100\n",
        "\n",
        "print('ACC : ' + str(acc))"
      ],
      "execution_count": 103,
      "outputs": [
        {
          "output_type": "stream",
          "text": [
            "ACC : 45.0\n"
          ],
          "name": "stdout"
        }
      ]
    },
    {
      "cell_type": "code",
      "metadata": {
        "id": "VgL3cLtJ0xw1",
        "colab_type": "code",
        "colab": {}
      },
      "source": [
        ""
      ],
      "execution_count": 0,
      "outputs": []
    }
  ]
}