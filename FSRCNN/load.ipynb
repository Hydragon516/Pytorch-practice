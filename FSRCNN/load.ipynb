{
 "cells": [
  {
   "cell_type": "code",
   "execution_count": 1,
   "metadata": {},
   "outputs": [],
   "source": [
    "import glob\n",
    "import random"
   ]
  },
  {
   "cell_type": "code",
   "execution_count": 2,
   "metadata": {},
   "outputs": [
    {
     "name": "stdout",
     "output_type": "stream",
     "text": "202599\n"
    }
   ],
   "source": [
    "root = glob.glob(\"./img_align_celeba/*\")\n",
    "print(len(root))"
   ]
  },
  {
   "cell_type": "code",
   "execution_count": 3,
   "metadata": {},
   "outputs": [
    {
     "name": "stdout",
     "output_type": "stream",
     "text": "5000\n"
    }
   ],
   "source": [
    "root = random.sample(root, 5000)\n",
    "print(len(root))"
   ]
  },
  {
   "cell_type": "code",
   "execution_count": 4,
   "metadata": {},
   "outputs": [],
   "source": [
    "import cv2\n",
    "from skimage.transform import pyramid_reduce "
   ]
  },
  {
   "cell_type": "code",
   "execution_count": 5,
   "metadata": {},
   "outputs": [],
   "source": [
    "for img_path in root:\n",
    "    img_name = (img_path.split(\"\\\\\"))[1]\n",
    "    img_sample = cv2.imread(img_path, 1)\n",
    "    h, w, _ = img_sample.shape\n",
    "\n",
    "    crop_sample = img_sample[int((h-w)/2):int(-(h-w)/2), :]\n",
    "    resized_sample = pyramid_reduce(crop_sample, downscale=4)*255\n",
    "\n",
    "    crop_sample = cv2.resize(crop_sample, (176, 176), interpolation=cv2.INTER_CUBIC)\n",
    "    cv2.imwrite(\"./dataset/GT/\"+img_name, crop_sample)\n",
    "    resized_sample = cv2.resize(resized_sample, (44, 44), interpolation=cv2.INTER_CUBIC)\n",
    "    cv2.imwrite(\"./dataset/image/\"+img_name, resized_sample)"
   ]
  }
 ],
 "metadata": {
  "kernelspec": {
   "display_name": "Python 3.7.4 64-bit ('base': conda)",
   "language": "python",
   "name": "python37464bitbasecondaaa9348a3cfa54e68ba62912b349bc67d"
  },
  "language_info": {
   "codemirror_mode": {
    "name": "ipython",
    "version": 3
   },
   "file_extension": ".py",
   "mimetype": "text/x-python",
   "name": "python",
   "nbconvert_exporter": "python",
   "pygments_lexer": "ipython3",
   "version": "3.7.4-final"
  }
 },
 "nbformat": 4,
 "nbformat_minor": 2
}