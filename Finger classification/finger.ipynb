{
 "cells": [
  {
   "cell_type": "code",
   "execution_count": 1,
   "metadata": {},
   "outputs": [],
   "source": [
    "import os, glob"
   ]
  },
  {
   "cell_type": "code",
   "execution_count": 2,
   "metadata": {},
   "outputs": [
    {
     "name": "stdout",
     "output_type": "stream",
     "text": [
      "12006\n"
     ]
    }
   ],
   "source": [
    "img_dir = glob.glob('./finger-digits-05/training_images (copy)/*.png')\n",
    "print(len(img_dir))"
   ]
  },
  {
   "cell_type": "code",
   "execution_count": 3,
   "metadata": {},
   "outputs": [],
   "source": [
    "import numpy as np\n",
    "import cv2"
   ]
  },
  {
   "cell_type": "code",
   "execution_count": 4,
   "metadata": {},
   "outputs": [
    {
     "name": "stdout",
     "output_type": "stream",
     "text": [
      "(12006, 1, 128, 128) (12006,)\n"
     ]
    }
   ],
   "source": [
    "img_size = 128\n",
    "\n",
    "images = []\n",
    "labels = []\n",
    "\n",
    "for img_pth in img_dir:\n",
    "    img_name = (img_pth.split('\\\\'))[1]\n",
    "    label = (((img_name.split('_'))[1]).split('.'))[0]\n",
    "    labels.append(int(label))\n",
    "    \n",
    "    image = cv2.imread(img_pth, 0)\n",
    "    image.resize(1, img_size, img_size)\n",
    "    images.append(image / 255)\n",
    "    \n",
    "images = np.array(images)\n",
    "labels = np.array(labels)\n",
    "\n",
    "print(images.shape, labels.shape)"
   ]
  },
  {
   "cell_type": "code",
   "execution_count": 5,
   "metadata": {},
   "outputs": [],
   "source": [
    "import torch\n",
    "import torch.nn as nn\n",
    "import torch.nn.functional as F\n",
    "\n",
    "from torch.utils.data import TensorDataset\n",
    "from torch.utils.data import DataLoader"
   ]
  },
  {
   "cell_type": "code",
   "execution_count": 6,
   "metadata": {},
   "outputs": [],
   "source": [
    "x_train = torch.FloatTensor(images)\n",
    "y_train = torch.FloatTensor(labels)"
   ]
  },
  {
   "cell_type": "code",
   "execution_count": 7,
   "metadata": {},
   "outputs": [],
   "source": [
    "dataset = TensorDataset(x_train, y_train)\n",
    "train_set, val_set = torch.utils.data.random_split(dataset, [10806, 1200])"
   ]
  },
  {
   "cell_type": "code",
   "execution_count": 8,
   "metadata": {},
   "outputs": [],
   "source": [
    "train_loader = DataLoader(train_set, batch_size=16, shuffle=True)\n",
    "val_loader = DataLoader(val_set, batch_size=16, shuffle=True)"
   ]
  },
  {
   "cell_type": "code",
   "execution_count": 9,
   "metadata": {},
   "outputs": [],
   "source": [
    "classes = ['0', '1', '2', '3', '4', '5']"
   ]
  },
  {
   "cell_type": "code",
   "execution_count": 11,
   "metadata": {},
   "outputs": [
    {
     "data": {
      "image/png": "[encoded data removed]",
      "text/plain": [
       "<Figure size 432x288 with 6 Axes>"
      ]
     },
     "metadata": {},
     "output_type": "display_data"
    }
   ],
   "source": [
    "import matplotlib.pyplot as plt\n",
    "\n",
    "dataiter = iter(train_loader)\n",
    "images, labels = dataiter.next()\n",
    "images = images.numpy()\n",
    "labels = labels.numpy()\n",
    "\n",
    "fig = plt.figure()\n",
    "rows = 2\n",
    "cols = 3\n",
    "\n",
    "for i, image in enumerate(images):\n",
    "    ax = fig.add_subplot(rows, cols, i + 1)\n",
    "    ax.imshow(image.squeeze())\n",
    "    ax.set_xlabel(classes[int(labels[i])])\n",
    "    ax.set_xticks([]), ax.set_yticks([])\n",
    "    i += 1\n",
    "    \n",
    "    if i >= rows * cols:\n",
    "        break"
   ]
  },
  {
   "cell_type": "code",
   "execution_count": 12,
   "metadata": {},
   "outputs": [
    {
     "name": "stdout",
     "output_type": "stream",
     "text": [
      "cuda:0\n"
     ]
    },
    {
     "data": {
      "text/plain": [
       "CNN(\n",
       "  (layer1): Sequential(\n",
       "    (0): Conv2d(1, 16, kernel_size=(5, 5), stride=(1, 1))\n",
       "    (1): ReLU()\n",
       "    (2): Conv2d(16, 32, kernel_size=(5, 5), stride=(1, 1))\n",
       "    (3): ReLU()\n",
       "    (4): MaxPool2d(kernel_size=2, stride=2, padding=0, dilation=1, ceil_mode=False)\n",
       "  )\n",
       "  (layer2): Sequential(\n",
       "    (0): Conv2d(32, 32, kernel_size=(5, 5), stride=(1, 1))\n",
       "    (1): ReLU()\n",
       "    (2): Conv2d(32, 32, kernel_size=(5, 5), stride=(1, 1))\n",
       "    (3): ReLU()\n",
       "    (4): MaxPool2d(kernel_size=2, stride=2, padding=0, dilation=1, ceil_mode=False)\n",
       "  )\n",
       "  (layer3): Sequential(\n",
       "    (0): Conv2d(32, 32, kernel_size=(5, 5), stride=(1, 1))\n",
       "    (1): ReLU()\n",
       "    (2): Conv2d(32, 32, kernel_size=(5, 5), stride=(1, 1))\n",
       "    (3): ReLU()\n",
       "    (4): MaxPool2d(kernel_size=2, stride=2, padding=0, dilation=1, ceil_mode=False)\n",
       "  )\n",
       "  (fc_layer): Sequential(\n",
       "    (0): Linear(in_features=2592, out_features=100, bias=True)\n",
       "    (1): Dropout(p=0.2, inplace=False)\n",
       "    (2): ReLU()\n",
       "    (3): Linear(in_features=100, out_features=6, bias=True)\n",
       "  )\n",
       ")"
      ]
     },
     "execution_count": 12,
     "metadata": {},
     "output_type": "execute_result"
    }
   ],
   "source": [
    "import torch.nn as nn\n",
    "import torch.nn.functional as F\n",
    "\n",
    "class CNN(nn.Module):\n",
    "    def __init__(self):\n",
    "        super(CNN, self).__init__()\n",
    "        self.layer1 = nn.Sequential(\n",
    "            nn.Conv2d(1, 16, 5),\n",
    "            nn.ReLU(),\n",
    "            nn.Conv2d(16, 32, 5),\n",
    "            nn.ReLU(),\n",
    "            nn.MaxPool2d(2, 2)\n",
    "        )\n",
    "        self.layer2 = nn.Sequential(\n",
    "            nn.Conv2d(32, 32, 5),\n",
    "            nn.ReLU(),\n",
    "            nn.Conv2d(32, 32, 5),\n",
    "            nn.ReLU(),\n",
    "            nn.MaxPool2d(2, 2)\n",
    "        )\n",
    "        \n",
    "        self.layer3 = nn.Sequential(\n",
    "            nn.Conv2d(32, 32, 5),\n",
    "            nn.ReLU(),\n",
    "            nn.Conv2d(32, 32, 5),\n",
    "            nn.ReLU(),\n",
    "            nn.MaxPool2d(2, 2)\n",
    "        )\n",
    "        \n",
    "        self.fc_layer = nn.Sequential(\n",
    "            nn.Linear(32 * 9 * 9, 100),\n",
    "            nn.Dropout(0.2),\n",
    "            nn.ReLU(),\n",
    "            nn.Linear(100, 6)\n",
    "        )\n",
    "        \n",
    "\n",
    "    def forward(self, x):\n",
    "        x = self.layer1(x)\n",
    "        x = self.layer2(x)\n",
    "        x = self.layer3(x)\n",
    "        batch, _, _, _ = x.shape\n",
    "        x = x.view(batch, -1)\n",
    "        x = self.fc_layer(x)\n",
    "        return x\n",
    "\n",
    "net = CNN()\n",
    "device = torch.device(\"cuda:0\" if torch.cuda.is_available() else \"cpu\")\n",
    "print(device)\n",
    "net.to(device)"
   ]
  },
  {
   "cell_type": "code",
   "execution_count": 13,
   "metadata": {},
   "outputs": [],
   "source": [
    "import torch.optim as optim\n",
    "\n",
    "criterion = nn.CrossEntropyLoss()\n",
    "\n",
    "learning_rate = 0.0001\n",
    "optimizer = torch.optim.Adam(net.parameters(), lr=learning_rate)"
   ]
  },
  {
   "cell_type": "code",
   "execution_count": 14,
   "metadata": {},
   "outputs": [
    {
     "name": "stdout",
     "output_type": "stream",
     "text": [
      "Epoch: 1/10 ||  Training Loss: 0.22066 ||  Val Loss: 0.01351  Val ACC : 0.99583\n",
      "Epoch: 2/10 ||  Training Loss: 0.01153 ||  Val Loss: 0.01060  Val ACC : 0.99417\n",
      "Epoch: 3/10 ||  Training Loss: 0.00907 ||  Val Loss: 0.01586  Val ACC : 0.99417\n",
      "Epoch: 4/10 ||  Training Loss: 0.00406 ||  Val Loss: 0.00025  Val ACC : 1.00000\n",
      "Epoch: 5/10 ||  Training Loss: 0.00431 ||  Val Loss: 0.00240  Val ACC : 0.99917\n",
      "Epoch: 6/10 ||  Training Loss: 0.00254 ||  Val Loss: 0.00029  Val ACC : 1.00000\n",
      "Epoch: 7/10 ||  Training Loss: 0.00855 ||  Val Loss: 0.00067  Val ACC : 1.00000\n",
      "Epoch: 8/10 ||  Training Loss: 0.00033 ||  Val Loss: 0.00018  Val ACC : 1.00000\n",
      "Epoch: 9/10 ||  Training Loss: 0.00040 ||  Val Loss: 0.00036  Val ACC : 1.00000\n",
      "Epoch: 10/10 ||  Training Loss: 0.00541 ||  Val Loss: 0.00031  Val ACC : 1.00000\n",
      "Finished Training\n"
     ]
    }
   ],
   "source": [
    "train_losses, val_losses, accuracy = [], [], []\n",
    "epochs = 10\n",
    "\n",
    "for epoch in range(epochs):\n",
    "    running_loss = 0\n",
    "    \n",
    "    for i, data in enumerate(train_loader, 0):\n",
    "        inputs, labels = data[0].to(device), data[1].to(device)\n",
    "        labels = labels.long()\n",
    "\n",
    "        optimizer.zero_grad()\n",
    "\n",
    "        outputs = net(inputs)\n",
    "        loss = criterion(outputs, labels)\n",
    "        loss.backward()\n",
    "        optimizer.step()\n",
    "\n",
    "        running_loss += loss.item()\n",
    "    \n",
    "    else:\n",
    "        val_loss = 0\n",
    "        val_accuracy = 0\n",
    "        acc = 0\n",
    "        \n",
    "        with torch.no_grad():\n",
    "            for val_image, val_label in val_loader:\n",
    "                val_image, val_label = val_image.to(device), val_label.to(device)\n",
    "                val_label = val_label.long()\n",
    "                \n",
    "                val_outputs = net(val_image)\n",
    "                _, top_class = val_outputs.topk(1, dim=1)\n",
    "                pred = top_class.cpu().numpy()\n",
    "                batch, _ = pred.shape\n",
    "                target = (val_label.cpu().numpy()).reshape(batch, 1)\n",
    "                \n",
    "                correct = np.sum(pred == target)\n",
    "                acc += correct / batch\n",
    "                \n",
    "                val_loss += criterion(val_outputs, val_label)\n",
    "\n",
    "        acc = acc / len(val_loader)\n",
    "        \n",
    "        train_losses.append(running_loss/len(train_loader))\n",
    "        val_losses.append(val_loss/len(val_loader))\n",
    "        accuracy.append(acc)\n",
    "\n",
    "        print(\"Epoch: {}/{} || \".format(epoch+1, epochs),\n",
    "              \"Training Loss: {:.5f} || \".format(running_loss/len(train_loader)),\n",
    "              \"Val Loss: {:.5f} \".format(val_loss/len(val_loader)),\n",
    "              \"Val ACC : {:.5f}\".format(acc)\n",
    "             )\n",
    "\n",
    "print('Finished Training')"
   ]
  },
  {
   "cell_type": "code",
   "execution_count": 15,
   "metadata": {},
   "outputs": [
    {
     "data": {
      "image/png": "[encoded data removed]",
      "text/plain": [
       "<Figure size 432x288 with 6 Axes>"
      ]
     },
     "metadata": {},
     "output_type": "display_data"
    }
   ],
   "source": [
    "import matplotlib.pyplot as plt\n",
    "\n",
    "dataiter = iter(val_loader)\n",
    "images, labels = dataiter.next()\n",
    "images = images.numpy()\n",
    "labels = labels.numpy()\n",
    "\n",
    "fig = plt.figure()\n",
    "rows = 2\n",
    "cols = 3\n",
    "\n",
    "for i, image in enumerate(images):\n",
    "    ax = fig.add_subplot(rows, cols, i + 1)\n",
    "    ax.imshow(image.squeeze())\n",
    "    ax.set_xlabel(classes[int(labels[i])])\n",
    "    ax.set_xticks([]), ax.set_yticks([])\n",
    "    i += 1\n",
    "    \n",
    "    if i >= rows * cols:\n",
    "        break"
   ]
  },
  {
   "cell_type": "code",
   "execution_count": null,
   "metadata": {},
   "outputs": [],
   "source": []
  }
 ],
 "metadata": {
  "kernelspec": {
   "display_name": "Python 3",
   "language": "python",
   "name": "python3"
  },
  "language_info": {
   "codemirror_mode": {
    "name": "ipython",
    "version": 3
   },
   "file_extension": ".py",
   "mimetype": "text/x-python",
   "name": "python",
   "nbconvert_exporter": "python",
   "pygments_lexer": "ipython3",
   "version": "3.7.4"
  }
 },
 "nbformat": 4,
 "nbformat_minor": 2
}
